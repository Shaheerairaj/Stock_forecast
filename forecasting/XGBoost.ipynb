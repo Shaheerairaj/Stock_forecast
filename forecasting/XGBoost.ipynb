{
 "cells": [
  {
   "cell_type": "code",
   "execution_count": null,
   "metadata": {},
   "outputs": [],
   "source": [
    "import utils.data_getter\n",
    "from utils.data_getter import TimeSeries\n",
    "from utils.technical_indicators import calculate_rsi, calculate_adx"
   ]
  },
  {
   "cell_type": "code",
   "execution_count": null,
   "metadata": {},
   "outputs": [],
   "source": [
    "aapl = (\n",
    "    TimeSeries(\"AAPL\", date=\"2024-01-01\")\n",
    "    .construct_returns()\n",
    "    .construct_technical_indicators([calculate_rsi, calculate_adx], [5, 5])\n",
    "    .lag_column(\"Returns\", skip_lags=1, n_lags=2)\n",
    "    .dropna()\n",
    "    .drop_columns([\"Date\", \"Open\", \"High\", \"Low\", \"Close\", \"Adj Close\", \"Volume\"])\n",
    "    .train_test_split(test_size=0.2, target=\"Returns\")\n",
    ")"
   ]
  },
  {
   "cell_type": "code",
   "execution_count": null,
   "metadata": {},
   "outputs": [],
   "source": [
    "from sklearn.metrics import mean_absolute_percentage_error, r2_score\n",
    "import xgboost\n",
    "model = xgboost.XGBRegressor(max_depth = 2, learning_rate = 0.1, n_estimators = 100)\n",
    "model.fit(aapl.modelling_data.x_train, aapl.modelling_data.y_train)\n",
    "aapl.predict(model, \"Vanilla XGBoost\")\n",
    "MAPE = mean_absolute_percentage_error(aapl.modelling_data.y_test, aapl.predictions[\"Vanilla XGBoost\"])"
   ]
  },
  {
   "cell_type": "code",
   "execution_count": null,
   "metadata": {},
   "outputs": [],
   "source": [
    "print(f\"MAPE: {MAPE*100:.2f}%\")"
   ]
  },
  {
   "cell_type": "markdown",
   "metadata": {},
   "source": [
    "## Hyperparameter Optimisation"
   ]
  },
  {
   "cell_type": "code",
   "execution_count": null,
   "metadata": {},
   "outputs": [],
   "source": [
    "from hyperopt import STATUS_OK, Trials, fmin, hp, tpe\n",
    "space={'max_depth': hp.quniform(\"max_depth\", 3, 18, 1),\n",
    "        'gamma': hp.uniform ('gamma', 1,9),\n",
    "        'reg_alpha' : hp.quniform('reg_alpha', 40,180,1),\n",
    "        'reg_lambda' : hp.uniform('reg_lambda', 0,1),\n",
    "        'colsample_bytree' : hp.uniform('colsample_bytree', 0.5,1),\n",
    "        'min_child_weight' : hp.quniform('min_child_weight', 0, 10, 1),\n",
    "        'n_estimators': 180,\n",
    "        'seed': 0\n",
    "    }\n",
    "def objective(space):\n",
    "    clf=xgboost.XGBRegressor(\n",
    "                    n_estimators =space['n_estimators'], max_depth = int(space['max_depth']), gamma = space['gamma'],\n",
    "                    reg_alpha = int(space['reg_alpha']),min_child_weight=int(space['min_child_weight']),\n",
    "                    colsample_bytree=int(space['colsample_bytree']))\n",
    "    \n",
    "    evaluation = [( aapl.modelling_data.x_train, aapl.modelling_data.y_train), ( aapl.modelling_data.x_test, aapl.modelling_data.y_test)]\n",
    "    \n",
    "    clf.fit(aapl.modelling_data.x_train, aapl.modelling_data.y_train,\n",
    "            eval_set=evaluation, eval_metric=\"auc\",\n",
    "            early_stopping_rounds=10,verbose=False)\n",
    "    \n",
    "\n",
    "    pred = clf.predict(aapl.modelling_data.x_test)\n",
    "    R2 = r2_score(aapl.modelling_data.y_test, pred)\n",
    "    return {'loss': -R2, 'status': STATUS_OK }"
   ]
  },
  {
   "cell_type": "code",
   "execution_count": 37,
   "metadata": {},
   "outputs": [],
   "source": [
    "trials = Trials()\n",
    "import warnings\n",
    "warnings.filterwarnings(\"ignore\")\n",
    "best_hyperparams = fmin(fn = objective,\n",
    "                        space = space,\n",
    "                        algo = tpe.suggest,\n",
    "                        max_evals = 100,\n",
    "                        trials = trials,\n",
    "                        verbose=False)"
   ]
  },
  {
   "cell_type": "code",
   "execution_count": 38,
   "metadata": {},
   "outputs": [],
   "source": [
    "# Fixing types\n",
    "best_hyperparams['max_depth'] = int(best_hyperparams['max_depth'])"
   ]
  },
  {
   "cell_type": "code",
   "execution_count": 39,
   "metadata": {},
   "outputs": [
    {
     "name": "stdout",
     "output_type": "stream",
     "text": [
      "MAPE: 96.58%\n"
     ]
    }
   ],
   "source": [
    "hyperparam_optimised_model = xgboost.XGBRegressor(**best_hyperparams)\n",
    "hyperparam_optimised_model.fit(aapl.modelling_data.x_train, aapl.modelling_data.y_train)\n",
    "aapl.predict(hyperparam_optimised_model, \"HPOptimised XGBoost\")\n",
    "MAPE = mean_absolute_percentage_error(aapl.modelling_data.y_test, aapl.predictions[\"HPOptimised XGBoost\"])\n",
    "R2 = r2_score(aapl.modelling_data.y_test, aapl.predictions[\"HPOptimised XGBoost\"])\n",
    "print(f\"MAPE: {MAPE*100:.2f}%\")\n"
   ]
  }
 ],
 "metadata": {
  "kernelspec": {
   "display_name": "Python 3",
   "language": "python",
   "name": "python3"
  },
  "language_info": {
   "codemirror_mode": {
    "name": "ipython",
    "version": 3
   },
   "file_extension": ".py",
   "mimetype": "text/x-python",
   "name": "python",
   "nbconvert_exporter": "python",
   "pygments_lexer": "ipython3",
   "version": "3.12.0"
  }
 },
 "nbformat": 4,
 "nbformat_minor": 2
}
