{
  "nbformat": 4,
  "nbformat_minor": 0,
  "metadata": {
    "colab": {
      "provenance": []
    },
    "kernelspec": {
      "name": "python3",
      "display_name": "Python 3"
    },
    "language_info": {
      "name": "python"
    }
  },
  "cells": [
    {
      "cell_type": "markdown",
      "source": [
        "# Install Packages"
      ],
      "metadata": {
        "id": "yZI-Wf1uAl4A"
      }
    },
    {
      "cell_type": "code",
      "source": [
        "!pip install gdeltdoc\n"
      ],
      "metadata": {
        "id": "sv3azCoGDpLx",
        "colab": {
          "base_uri": "https://localhost:8080/"
        },
        "outputId": "450b40da-3355-4703-8d4f-17f9fee6a582"
      },
      "execution_count": 1,
      "outputs": [
        {
          "output_type": "stream",
          "name": "stdout",
          "text": [
            "Collecting gdeltdoc\n",
            "  Downloading gdeltdoc-1.5.0-py3-none-any.whl (13 kB)\n",
            "Requirement already satisfied: pandas>=1.1.4 in /usr/local/lib/python3.10/dist-packages (from gdeltdoc) (2.0.3)\n",
            "Requirement already satisfied: requests>=2.25.1 in /usr/local/lib/python3.10/dist-packages (from gdeltdoc) (2.31.0)\n",
            "Requirement already satisfied: python-dateutil>=2.8.2 in /usr/local/lib/python3.10/dist-packages (from pandas>=1.1.4->gdeltdoc) (2.8.2)\n",
            "Requirement already satisfied: pytz>=2020.1 in /usr/local/lib/python3.10/dist-packages (from pandas>=1.1.4->gdeltdoc) (2023.4)\n",
            "Requirement already satisfied: tzdata>=2022.1 in /usr/local/lib/python3.10/dist-packages (from pandas>=1.1.4->gdeltdoc) (2024.1)\n",
            "Requirement already satisfied: numpy>=1.21.0 in /usr/local/lib/python3.10/dist-packages (from pandas>=1.1.4->gdeltdoc) (1.25.2)\n",
            "Requirement already satisfied: charset-normalizer<4,>=2 in /usr/local/lib/python3.10/dist-packages (from requests>=2.25.1->gdeltdoc) (3.3.2)\n",
            "Requirement already satisfied: idna<4,>=2.5 in /usr/local/lib/python3.10/dist-packages (from requests>=2.25.1->gdeltdoc) (3.7)\n",
            "Requirement already satisfied: urllib3<3,>=1.21.1 in /usr/local/lib/python3.10/dist-packages (from requests>=2.25.1->gdeltdoc) (2.0.7)\n",
            "Requirement already satisfied: certifi>=2017.4.17 in /usr/local/lib/python3.10/dist-packages (from requests>=2.25.1->gdeltdoc) (2024.7.4)\n",
            "Requirement already satisfied: six>=1.5 in /usr/local/lib/python3.10/dist-packages (from python-dateutil>=2.8.2->pandas>=1.1.4->gdeltdoc) (1.16.0)\n",
            "Installing collected packages: gdeltdoc\n",
            "Successfully installed gdeltdoc-1.5.0\n"
          ]
        }
      ]
    },
    {
      "cell_type": "markdown",
      "source": [],
      "metadata": {
        "id": "J5Zy_SVnyPFD"
      }
    },
    {
      "cell_type": "markdown",
      "source": [
        "# Import Libraties"
      ],
      "metadata": {
        "id": "ItzgRizFAog2"
      }
    },
    {
      "cell_type": "code",
      "source": [
        "from gdeltdoc import GdeltDoc, Filters, near, repeat\n",
        "from enum import Enum"
      ],
      "metadata": {
        "id": "jy1kyz81A4JC"
      },
      "execution_count": 5,
      "outputs": []
    },
    {
      "cell_type": "markdown",
      "source": [
        "# Class GdeltData definition"
      ],
      "metadata": {
        "id": "tDxCJpkHA6LD"
      }
    },
    {
      "cell_type": "code",
      "source": [
        "class GdeltData(GdeltDoc):\n",
        "    \"\"\"\n",
        "    Class for interacting with the GDELT API for Sentiment Analysis\n",
        "\n",
        "      There are 5 available modes when making a timeline search:\n",
        "      timelinevol - a timeline of the volume of news coverage matching the filters, represented as a percentage of the total news articles monitored by GDELT.\n",
        "      timelinevolraw - similar to timelinevol, but has the actual number of articles and a total rather than a percentage\n",
        "      timelinelang - similar to timelinevol but breaks the total articles down by published language. Each language is returned as a separate column in the DataFrame.\n",
        "      timelinesourcecountry - similar to timelinevol but breaks the total articles down by the country they were published in. Each country is returned as a separate column in the DataFrame.\n",
        "      timelinetone - a timeline of the average tone of the news coverage matching the filters. See GDELT's documentation for more information about the tone metric.\n",
        "\n",
        "      Filter set example. All of them are optional.\n",
        "          start_date = \"2020-05-01\",\n",
        "          end_date = \"2020-05-02\",\n",
        "          num_records = 250,\n",
        "          keyword = \"climate change\",\n",
        "          domain = [\"bbc.co.uk\", \"nytimes.com\"],\n",
        "          country = [\"UK\", \"US\"],\n",
        "          theme = \"GENERAL_HEALTH\",\n",
        "          near = near(10, \"airline\", \"carbon\"),\n",
        "          repeat = repeat(5, \"planet\")\n",
        "    \"\"\"\n",
        "    def __init__(self, num_records:int, filter_string:Filters) -> None:\n",
        "        \"\"\"\n",
        "        Initialize the GdeltData class.\n",
        "        \"\"\"\n",
        "        self.max_depth_json_parsing:int = num_records\n",
        "        self.filter_string:Filters = filter_string\n",
        "\n",
        "    def retrive_articles(self):\n",
        "        \"\"\"\n",
        "        Retrieve articles from the GDELT API.\n",
        "        \"\"\"\n",
        "        self.articles = self.article_search(self.filter_string)\n",
        "        return self.articles\n",
        "\n",
        "    def retrive_timeline(self,timeline_mode:str):\n",
        "        \"\"\"\n",
        "        Retrieve timeline data from the GDELT API.\n",
        "        \"\"\"\n",
        "        self.timeline = self.timeline_search(timeline_mode, self.filter_string)\n",
        "        return self.timeline"
      ],
      "metadata": {
        "id": "fmuOlgGfEuBl"
      },
      "execution_count": 7,
      "outputs": []
    },
    {
      "cell_type": "markdown",
      "source": [
        "# Test Box"
      ],
      "metadata": {
        "id": "G_AO18n9BOCS"
      }
    },
    {
      "cell_type": "code",
      "source": [
        "# Test box\n",
        "kw:str = \"apple\"\n",
        "f=Filters(start_date = \"2022-01-01\",\n",
        "        end_date = \"2024-07-04\",\n",
        "        num_records = 250,\n",
        "        keyword = kw);\n",
        "\n",
        "\n",
        "AaplGdeltData = GdeltData(250, f)\n",
        "AaplGdeltData.retrive_articles()\n",
        "\n",
        "AaplGdeltData.articles.to_csv(f\"{kw}_articles.csv\")\n",
        "\n",
        "\n",
        "\n",
        "\n",
        "AaplGdeltData.retrive_timeline(\"timelinevol\")\n",
        "\n",
        "print(AaplGdeltData.articles)\n",
        "print(AaplGdeltData.timeline)\n",
        "\n"
      ],
      "metadata": {
        "id": "IoANm834FEN6",
        "colab": {
          "base_uri": "https://localhost:8080/"
        },
        "outputId": "d90d446d-a819-4334-c7e3-9e201cbd923a"
      },
      "execution_count": 8,
      "outputs": [
        {
          "output_type": "stream",
          "name": "stdout",
          "text": [
            "                                                   url  \\\n",
            "0                 https://natalie.mu/music/news/575156   \n",
            "1    https://www.163.com/dy/article/J3D38I0A0512B07...   \n",
            "2    https://finance.sina.com.cn/jjxw/2024-05-29/do...   \n",
            "3                 https://tech.ifeng.com/c/8ZzNaSAkDNd   \n",
            "4    https://forums.appleinsider.com/discussion/236561   \n",
            "..                                                 ...   \n",
            "245  https://www.forbes.com/sites/tiriasresearch/20...   \n",
            "246         https://www.huxiu.com/article/3035020.html   \n",
            "247  https://www.imore.com/ipad/apple-pencil-2-retu...   \n",
            "248  https://finance.sina.com.cn/tech/mobile/n/n/20...   \n",
            "249            https://finance.ifeng.com/c/8YnumtoMe54   \n",
            "\n",
            "                                            url_mobile  \\\n",
            "0                                                        \n",
            "1    https://m.163.com/dy/article/J3D38I0A0512B07B....   \n",
            "2                                                        \n",
            "3                                                        \n",
            "4                                                        \n",
            "..                                                 ...   \n",
            "245                                                      \n",
            "246           https://m.huxiu.com/article/3035020.html   \n",
            "247                                                      \n",
            "248                                                      \n",
            "249                                                      \n",
            "\n",
            "                                                 title          seendate  \\\n",
            "0    椎名林檎 、 歌姫迎えたニューアルバム 「 放生会 」 より6つの新曲ミュージックビデオを一...  20240528T024500Z   \n",
            "1      苹果税  中国反垄断第一案宣判 ： 苹果具有市场支配地位 但原告诉求被驳|安卓|苹果公司...  20240529T154500Z   \n",
            "2                 苹果税  中国反垄断第一案宣判 ： 苹果具有市场支配地位 但原告诉求被驳  20240530T014500Z   \n",
            "3           苹果税  中国反垄断第一案宣判 ： 苹果具有市场支配地位 但原告诉求被驳 _ 凤凰网  20240530T000000Z   \n",
            "4    Job listing suggests Apple is moving forward w...  20240529T233000Z   \n",
            "..                                                 ...               ...   \n",
            "245  Apple Intelligence To Bring Personal AI To Mac...  20240627T060000Z   \n",
            "246                     被马斯克吐槽的  苹果税 ， 最高税率就是在中国 - 虎嗅网  20240516T144500Z   \n",
            "247  Apple Pencil 2 returns to its lowest price eve...  20240702T204500Z   \n",
            "248                   古尔曼 ： 增强版AI Siri或在2025年才登陆iOS 18  20240531T013000Z   \n",
            "249           苹果CEO库克抵达越南 ， 披露  越南果链  投资额已超千亿人民币 _ 凤凰网  20240416T014500Z   \n",
            "\n",
            "                                           socialimage  \\\n",
            "0    https://ogre.natalie.mu/media/news/music/2024/...   \n",
            "1                                                        \n",
            "2    https://n.sinaimg.cn/spider20240529/490/w1700h...   \n",
            "3    https://x0.ifengimg.com/ucms/2024_22/811011102...   \n",
            "4    https://photos5.appleinsider.com/gallery/59847...   \n",
            "..                                                 ...   \n",
            "245  https://imageio.forbes.com/specials-images/ima...   \n",
            "246  https://img.huxiucdn.com/article/cover/202306/...   \n",
            "247  https://cdn.mos.cms.futurecdn.net/3wmHHn4UC3BR...   \n",
            "248  https://n.sinaimg.cn/spider20240531/138/w600h3...   \n",
            "249  https://x0.ifengimg.com/ucms/2024_16/E39722E88...   \n",
            "\n",
            "                      domain  language  sourcecountry  \n",
            "0                 natalie.mu  Japanese      Mauritius  \n",
            "1                    163.com   Chinese          China  \n",
            "2        finance.sina.com.cn   Chinese          China  \n",
            "3             tech.ifeng.com   Chinese          China  \n",
            "4    forums.appleinsider.com   English  United States  \n",
            "..                       ...       ...            ...  \n",
            "245               forbes.com   English  United States  \n",
            "246                huxiu.com   Chinese          China  \n",
            "247                imore.com   English  United States  \n",
            "248      finance.sina.com.cn   Chinese          China  \n",
            "249        finance.ifeng.com   Chinese          China  \n",
            "\n",
            "[250 rows x 8 columns]\n",
            "                     datetime  Volume Intensity\n",
            "0   2022-01-01 00:00:00+00:00            0.9618\n",
            "1   2022-01-02 00:00:00+00:00            1.0137\n",
            "2   2022-01-03 00:00:00+00:00            1.4374\n",
            "3   2022-01-04 00:00:00+00:00            1.8229\n",
            "4   2022-01-05 00:00:00+00:00            1.1982\n",
            "..                        ...               ...\n",
            "910 2024-06-30 00:00:00+00:00            0.9679\n",
            "911 2024-07-01 00:00:00+00:00            0.9900\n",
            "912 2024-07-02 00:00:00+00:00            0.9941\n",
            "913 2024-07-03 00:00:00+00:00            0.9755\n",
            "914 2024-07-04 00:00:00+00:00            0.8180\n",
            "\n",
            "[915 rows x 2 columns]\n"
          ]
        }
      ]
    }
  ]
}